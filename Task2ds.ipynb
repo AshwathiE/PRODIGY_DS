{
  "nbformat": 4,
  "nbformat_minor": 0,
  "metadata": {
    "colab": {
      "provenance": [],
      "authorship_tag": "ABX9TyPlGGCJYVsPg0nGyAM3THgn",
      "include_colab_link": true
    },
    "kernelspec": {
      "name": "python3",
      "display_name": "Python 3"
    },
    "language_info": {
      "name": "python"
    }
  },
  "cells": [
    {
      "cell_type": "markdown",
      "metadata": {
        "id": "view-in-github",
        "colab_type": "text"
      },
      "source": [
        "<a href=\"https://colab.research.google.com/github/AshwathiE/PRODIGY_DS/blob/main/Task2ds.ipynb\" target=\"_parent\"><img src=\"https://colab.research.google.com/assets/colab-badge.svg\" alt=\"Open In Colab\"/></a>"
      ]
    },
    {
      "cell_type": "code",
      "execution_count": 1,
      "metadata": {
        "id": "86IYlt4knlyW"
      },
      "outputs": [],
      "source": [
        "import pandas as pd\n",
        "import numpy as np\n",
        "import matplotlib.pyplot as plt\n"
      ]
    },
    {
      "cell_type": "code",
      "source": [
        "def load_data(file_path):\n",
        "    \"\"\"Load Excel data into a DataFrame.\"\"\"\n",
        "    return pd.read_excel(\"/content/population.xls\")"
      ],
      "metadata": {
        "id": "GmQxENgPn9je"
      },
      "execution_count": 2,
      "outputs": []
    },
    {
      "cell_type": "code",
      "source": [
        "\n",
        "def rename_columns(df):\n",
        "    \"\"\"Rename specific columns for better readability.\"\"\"\n",
        "    df.rename(columns={\n",
        "        'Unnamed: 5': 'Population age composition2',\n",
        "        'Unnamed: 6': 'Population age composition3'\n",
        "    }, inplace=True)\n",
        "    return df\n"
      ],
      "metadata": {
        "id": "adnaoPYroHt7"
      },
      "execution_count": 3,
      "outputs": []
    },
    {
      "cell_type": "code",
      "source": [
        "def print_unique_values(df, columns):\n",
        "    \"\"\"Print unique values of specified columns.\"\"\"\n",
        "    for col in columns:\n",
        "        print(f\"Unique values in '{col}': {df[col].unique()}\")"
      ],
      "metadata": {
        "id": "J7LMfNnWoKtE"
      },
      "execution_count": 4,
      "outputs": []
    },
    {
      "cell_type": "code",
      "source": [
        "def convert_to_numeric(df, columns):\n",
        "    \"\"\"Convert specified columns to numeric, with non-numeric values coerced to NaN.\"\"\"\n",
        "    df[columns] = df[columns].apply(pd.to_numeric, errors='coerce')\n",
        "    return df"
      ],
      "metadata": {
        "id": "MVd9_lkIoVi3"
      },
      "execution_count": 6,
      "outputs": []
    },
    {
      "cell_type": "code",
      "source": [
        "def fill_missing_values_with_median(df, columns):\n",
        "    \"\"\"Fill missing values in specified columns with the median of each column.\"\"\"\n",
        "    for col in columns:\n",
        "        median_value = df[col].median()\n",
        "        df[col].fillna(median_value, inplace=True)\n",
        "    return df"
      ],
      "metadata": {
        "id": "uG0Z6Y4MoZCi"
      },
      "execution_count": 7,
      "outputs": []
    },
    {
      "cell_type": "code",
      "source": [
        "def create_grouped_df(df, original_cols, new_cols):\n",
        "    \"\"\"Create a new DataFrame with renamed columns for age categories.\"\"\"\n",
        "    df_grouped = df[original_cols].copy()\n",
        "    df_grouped.columns = new_cols\n",
        "    return df_grouped"
      ],
      "metadata": {
        "id": "CqSx8z-BokVt"
      },
      "execution_count": 8,
      "outputs": []
    },
    {
      "cell_type": "code",
      "source": [
        "def plot_age_distribution(total_population, categories):\n",
        "    \"\"\"Plot a bar chart for age distribution.\"\"\"\n",
        "    plt.figure(figsize=(8, 6))\n",
        "    plt.bar(categories, total_population, color='cyan', edgecolor='black')\n",
        "    plt.xlabel('Age Category')\n",
        "    plt.ylabel('Population Count')\n",
        "    plt.title('Bar Chart for Age Distribution of Population (2022)')\n",
        "    plt.show()"
      ],
      "metadata": {
        "id": "760L81WeopMs"
      },
      "execution_count": 9,
      "outputs": []
    },
    {
      "cell_type": "code",
      "source": [
        "def main():\n",
        "    file_path = \"/content/Population Dynamics (World Development Report).xls\"\n",
        "\n",
        "    # Load data\n",
        "    df = load_data(file_path)\n",
        "    df.info()\n",
        "    print(df.columns)\n",
        "\n",
        "    # Rename columns\n",
        "    df = rename_columns(df)\n",
        "\n",
        "    # Print unique values\n",
        "    age_cols = ['Population age composition', 'Population age composition2', 'Population age composition3']\n",
        "    print_unique_values(df, age_cols)\n",
        "\n",
        "    # Convert columns to numeric\n",
        "    df = convert_to_numeric(df, age_cols)\n",
        "\n",
        "    # Fill missing values with median\n",
        "    df = fill_missing_values_with_median(df, age_cols)\n",
        "\n",
        "    # Define age categories\n",
        "    age_categories = ['0-14', '15-64', '65+']\n",
        "\n",
        "    # Create grouped DataFrame\n",
        "    df_grouped = create_grouped_df(df, age_cols, age_categories)\n",
        "\n",
        "    # Calculate the sum of each age category\n",
        "    total_population = df_grouped.sum()\n",
        "\n",
        "    # Plot age distribution\n",
        "    plot_age_distribution(total_population, age_categories)\n",
        "\n",
        "if __name__ == \"__main__\":\n",
        "    main()"
      ],
      "metadata": {
        "colab": {
          "base_uri": "https://localhost:8080/",
          "height": 1000
        },
        "id": "366VcXecotW0",
        "outputId": "ccb1a6ae-0696-44d9-a4fc-fba90d1879c7"
      },
      "execution_count": 10,
      "outputs": [
        {
          "output_type": "stream",
          "name": "stdout",
          "text": [
            "<class 'pandas.core.frame.DataFrame'>\n",
            "RangeIndex: 300 entries, 0 to 299\n",
            "Data columns (total 11 columns):\n",
            " #   Column                              Non-Null Count  Dtype \n",
            "---  ------                              --------------  ----- \n",
            " 0   Unnamed: 0                          274 non-null    object\n",
            " 1   Population                          228 non-null    object\n",
            " 2   Unnamed: 2                          227 non-null    object\n",
            " 3   Average annual population growth %  227 non-null    object\n",
            " 4   Population age composition          229 non-null    object\n",
            " 5   Unnamed: 5                          229 non-null    object\n",
            " 6   Unnamed: 6                          229 non-null    object\n",
            " 7   Dependency ratio                    229 non-null    object\n",
            " 8   Unnamed: 8                          229 non-null    object\n",
            " 9   Crude death rate                    228 non-null    object\n",
            " 10  Crude birth rate                    228 non-null    object\n",
            "dtypes: object(11)\n",
            "memory usage: 25.9+ KB\n",
            "Index(['Unnamed: 0', 'Population', 'Unnamed: 2',\n",
            "       'Average annual population growth %', 'Population age composition',\n",
            "       'Unnamed: 5', 'Unnamed: 6', 'Dependency ratio', 'Unnamed: 8',\n",
            "       'Crude death rate', 'Crude birth rate'],\n",
            "      dtype='object')\n",
            "Unique values in 'Population age composition': ['Ages 0-14' '%' 2017 43 17 29 '..' 47 24 25 20 18 19 14 23 28 31 27 32 22\n",
            " 45 30 16 15 11 13 40 46 42 33 37 41 36 39 26 35 21 44 48 50 nan]\n",
            "Unique values in 'Population age composition2': ['Ages 15-64' '%' 2017 54 69 65 '..' 51 64 67 71 78 66 68 62 70 72 52 53\n",
            " 50 77 57 55 61 60 56 58 63 73 47 76 85 59 nan]\n",
            "Unique values in 'Population age composition3': ['Ages 65+' '%' 2017 3 13 6 '..' 2 7 11 16 19 9 5 15 4 17 21 18 10 8 20 14\n",
            " 12 23 27 22 1 nan]\n"
          ]
        },
        {
          "output_type": "display_data",
          "data": {
            "text/plain": [
              "<Figure size 800x600 with 1 Axes>"
            ],
            "image/png": "[encoded data removed]"
          },
          "metadata": {}
        }
      ]
    }
  ]
}